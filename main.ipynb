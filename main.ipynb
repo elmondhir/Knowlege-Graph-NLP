{
 "cells": [
  {
   "cell_type": "markdown",
   "metadata": {},
   "source": [
    "## Building a Knowledge Graph"
   ]
  },
  {
   "cell_type": "code",
   "execution_count": 47,
   "metadata": {},
   "outputs": [],
   "source": [
    "import pandas as pd\n",
    "from spacy.tokens import Span\n",
    "from utils import display_ner, reset_pipeline, print_dep_tree, alias_lookup\n"
   ]
  },
  {
   "cell_type": "code",
   "execution_count": 2,
   "metadata": {},
   "outputs": [
    {
     "name": "stderr",
     "output_type": "stream",
     "text": [
      "[nltk_data] Downloading package reuters to\n",
      "[nltk_data]     C:\\Users\\Azus\\AppData\\Roaming\\nltk_data...\n",
      "[nltk_data]   Package reuters is already up-to-date!\n"
     ]
    },
    {
     "data": {
      "text/plain": [
       "True"
      ]
     },
     "execution_count": 2,
     "metadata": {},
     "output_type": "execute_result"
    }
   ],
   "source": [
    "import nltk\n",
    "nltk.download('reuters')"
   ]
  },
  {
   "cell_type": "code",
   "execution_count": 3,
   "metadata": {},
   "outputs": [
    {
     "name": "stdout",
     "output_type": "stream",
     "text": [
      "10788 documents\n",
      "90 categories:\n",
      "['acq', 'alum', 'barley', 'bop', 'carcass', 'castor-oil', 'cocoa', 'coconut', 'coconut-oil', 'coffee', '...']\n",
      "\n",
      "      The Reuters-21578 benchmark corpus, ApteMod version\n",
      "\n",
      "This is a publically available version of the well-known Reuters-21578\n",
      "\"ApteMod\" corpus for text categorization.  It has been used in\n",
      "public\n"
     ]
    }
   ],
   "source": [
    "from nltk.corpus import reuters\n",
    "\n",
    "# List of documents\n",
    "documents = reuters.fileids()\n",
    "print(str(len(documents)) + \" documents\")\n",
    "print(str(len(reuters.categories())) + \" categories:\")\n",
    "print(reuters.categories()[:10] + ['...'])\n",
    "\n",
    "print(reuters.readme()[:200])"
   ]
  },
  {
   "cell_type": "code",
   "execution_count": 4,
   "metadata": {},
   "outputs": [
    {
     "name": "stderr",
     "output_type": "stream",
     "text": [
      "c:\\Users\\Azus\\anaconda3\\envs\\env\\lib\\site-packages\\tqdm\\std.py:706: FutureWarning: The Panel class is removed from pandas. Accessing it from the top-level namespace will also be removed in the next version\n",
      "  from pandas import Panel\n",
      "100%|██████████| 2369/2369 [00:00<00:00, 5715.80it/s]\n"
     ]
    },
    {
     "data": {
      "text/html": [
       "<div>\n",
       "<style scoped>\n",
       "    .dataframe tbody tr th:only-of-type {\n",
       "        vertical-align: middle;\n",
       "    }\n",
       "\n",
       "    .dataframe tbody tr th {\n",
       "        vertical-align: top;\n",
       "    }\n",
       "\n",
       "    .dataframe thead th {\n",
       "        text-align: right;\n",
       "    }\n",
       "</style>\n",
       "<table border=\"1\" class=\"dataframe\">\n",
       "  <thead>\n",
       "    <tr style=\"text-align: right;\">\n",
       "      <th></th>\n",
       "      <th>raw</th>\n",
       "    </tr>\n",
       "  </thead>\n",
       "  <tbody>\n",
       "    <tr>\n",
       "      <th>12441</th>\n",
       "      <td>GUINNESS TO SELL RETAIL INTERESTS\\n  Guinness ...</td>\n",
       "    </tr>\n",
       "    <tr>\n",
       "      <th>3061</th>\n",
       "      <td>FIRST BOSTON AFFILIATE TO ACQUIRE ALLEGHENY IN...</td>\n",
       "    </tr>\n",
       "    <tr>\n",
       "      <th>17810</th>\n",
       "      <td>ATCOR&amp;lt;ATCO.O&gt; SEEKS BUYERS FOR CONSUMER BUS...</td>\n",
       "    </tr>\n",
       "  </tbody>\n",
       "</table>\n",
       "</div>"
      ],
      "text/plain": [
       "                                                     raw\n",
       "12441  GUINNESS TO SELL RETAIL INTERESTS\\n  Guinness ...\n",
       "3061   FIRST BOSTON AFFILIATE TO ACQUIRE ALLEGHENY IN...\n",
       "17810  ATCOR&lt;ATCO.O> SEEKS BUYERS FOR CONSUMER BUS..."
      ]
     },
     "execution_count": 4,
     "metadata": {},
     "output_type": "execute_result"
    }
   ],
   "source": [
    "from nltk.corpus import reuters\n",
    "from tqdm.auto import tqdm\n",
    "\n",
    "tqdm.pandas()\n",
    "\n",
    "# create fileid column \n",
    "df = pd.DataFrame(reuters.fileids(\"acq\"), columns=['fileid'])\n",
    "# load raw texts\n",
    "df['raw'] = df['fileid'].progress_map(lambda f: reuters.raw(f))\n",
    "# df['raw'] = df['fileid'].progress_apply(lambda f: reuters.raw(f))\n",
    "\n",
    "# set index to numeric id\n",
    "df.index = df['fileid'].map(lambda f: int(f.split('/')[1]))\n",
    "df.index.name = None\n",
    "df = df.drop(columns=['fileid']).sort_index()\n",
    "\n",
    "df.sample(3, random_state=12)"
   ]
  },
  {
   "cell_type": "code",
   "execution_count": 5,
   "metadata": {},
   "outputs": [
    {
     "name": "stderr",
     "output_type": "stream",
     "text": [
      "100%|██████████| 2369/2369 [00:00<00:00, 14629.10it/s]\n"
     ]
    }
   ],
   "source": [
    "df[['headline', 'raw_text']] = df.progress_apply(lambda row: row['raw'].split('\\n', 1), axis='columns', result_type='expand')"
   ]
  },
  {
   "cell_type": "markdown",
   "metadata": {},
   "source": [
    "#### Cleaningi"
   ]
  },
  {
   "cell_type": "code",
   "execution_count": 6,
   "metadata": {},
   "outputs": [],
   "source": [
    "import re\n",
    "\n",
    "def clean(text):\n",
    "    text = text.replace('&lt;','<') # html escape\n",
    "    text = re.sub(r'[<>]', '\"', text) # quotation marks instead of <>\n",
    "    text = re.sub(r'[ ]*\"[A-Z\\.]+\"', '', text) # drop stock symbols\n",
    "    text = re.sub(r'[ ]*\\([A-Z\\.]+\\)', '', text) # drop stock symbols\n",
    "    text = re.sub(r'\\bdlr(s?)\\b', r'dollar\\1', text, flags=re.I)\n",
    "    text = re.sub(r'\\bmln(s?)\\b', r'million\\1', text, flags=re.I)\n",
    "    text = re.sub(r'\\bpct\\b', r'%', text, flags=re.I)\n",
    "    # normalize INC to Inc\n",
    "    text = re.sub(r'\\b(Co|Corp|Inc|Plc|Ltd)\\b', lambda m: m.expand(r'\\1').capitalize(), text, flags=re.I)\n",
    "    text = re.sub(r'\"', r'', text) # quotation marks\n",
    "    text = re.sub(r'\\s+', ' ', text) # multiple whitespace by one\n",
    "    text = re.sub(r'acquisiton', 'acquisition', text) # typo\n",
    "    text = re.sub(r'Nippon bLife', 'Nippon Life', text) # typo\n",
    "    text = re.sub(r'COMSAT.COMSAT', 'COMSAT. COMSAT', text) # missing space at end of sentence\n",
    "    #text = re.sub(r'Audio/Video', 'Audio-Video', text) # missing space at end of sentence\n",
    "\n",
    "    return text.strip()"
   ]
  },
  {
   "cell_type": "code",
   "execution_count": 7,
   "metadata": {},
   "outputs": [
    {
     "name": "stdout",
     "output_type": "stream",
     "text": [
      "Trafalgar House Plc said it has acquired the entire share capital of Capital Homes Inc of the U.S. For 20 million dollars in cash.\n",
      "\n",
      "Equiticorp Holdings Ltd now owns or has received acceptances representing 59.93 % of the issued ordinary share capital of Guinness Peat Group Plc , Equiticorp said in a statement.\n",
      "\n",
      "Computer Terminal Systems Inc said it has completed the sale of 200,000 shares of its common stock, and warrants to acquire an additional one million shares, to Sedio N.V. of Lugano, Switzerland for 50,000 dollars.\n",
      "\n",
      "North American Group Ltd said it has a definitive agreement to buy 100 % of Pioneer Business Group Inc of Atlanta.\n",
      "\n"
     ]
    }
   ],
   "source": [
    "# that's what the substitutions do\n",
    "texts = [\n",
    "\"\"\"Trafalgar House Plc &lt;TRAF.L> said it has\\n  acquired the entire share capital \n",
    "of &lt;Capital Homes Inc> of the\\n  U.S. For 20 mln dlrs in cash.\"\"\",\n",
    "\"\"\"Equiticorp Holdings Ltd &lt;EQUW.WE> now owns\\n  or has received acceptances \n",
    "representing 59.93 pct of the\\n  issued ordinary share capital of \n",
    "Guinness Peat Group Plc\\n  &lt;GNSP.L>, Equiticorp said in a statement.\"\"\",\n",
    "\"\"\"Computer Terminal Systems Inc said it has completed the sale of 200,000 shares \n",
    "of its common stock, and warrants to acquire an additional one mln shares, \n",
    "to \"Sedio N.V.\" of Lugano, Switzerland for 50,000 dlrs.\"\"\",\n",
    "\"\"\"North American Group Ltd said it has a definitive agreement \n",
    "to buy 100  pct of Pioneer Business Group Inc of Atlanta.\"\"\" \n",
    "]\n",
    "\n",
    "for text in texts:\n",
    "    print(clean(text), end=\"\\n\\n\")"
   ]
  },
  {
   "cell_type": "markdown",
   "metadata": {},
   "source": [
    "#### We apply it to the raw_text and create a new text column:\n",
    "\n"
   ]
  },
  {
   "cell_type": "code",
   "execution_count": 8,
   "metadata": {},
   "outputs": [
    {
     "name": "stderr",
     "output_type": "stream",
     "text": [
      "  0%|          | 0/2369 [00:00<?, ?it/s]"
     ]
    },
    {
     "name": "stderr",
     "output_type": "stream",
     "text": [
      "100%|██████████| 2369/2369 [00:00<00:00, 5313.22it/s]\n",
      "100%|██████████| 2369/2369 [00:00<00:00, 38705.14it/s]\n"
     ]
    }
   ],
   "source": [
    "df['text'] = df['raw_text'].progress_map(clean)\n",
    "df['headline'] = df['headline'].progress_map(clean)"
   ]
  },
  {
   "cell_type": "code",
   "execution_count": 9,
   "metadata": {},
   "outputs": [
    {
     "data": {
      "text/html": [
       "<div>\n",
       "<style scoped>\n",
       "    .dataframe tbody tr th:only-of-type {\n",
       "        vertical-align: middle;\n",
       "    }\n",
       "\n",
       "    .dataframe tbody tr th {\n",
       "        vertical-align: top;\n",
       "    }\n",
       "\n",
       "    .dataframe thead th {\n",
       "        text-align: right;\n",
       "    }\n",
       "</style>\n",
       "<table border=\"1\" class=\"dataframe\">\n",
       "  <thead>\n",
       "    <tr style=\"text-align: right;\">\n",
       "      <th></th>\n",
       "      <th>raw</th>\n",
       "      <th>headline</th>\n",
       "      <th>raw_text</th>\n",
       "      <th>text</th>\n",
       "    </tr>\n",
       "  </thead>\n",
       "  <tbody>\n",
       "    <tr>\n",
       "      <th>10</th>\n",
       "      <td>COMPUTER TERMINAL SYSTEMS &amp;lt;CPML&gt; COMPLETES ...</td>\n",
       "      <td>COMPUTER TERMINAL SYSTEMS COMPLETES SALE</td>\n",
       "      <td>Computer Terminal Systems Inc said\\n  it has...</td>\n",
       "      <td>Computer Terminal Systems Inc said it has comp...</td>\n",
       "    </tr>\n",
       "    <tr>\n",
       "      <th>12</th>\n",
       "      <td>OHIO MATTRESS &amp;lt;OMT&gt; MAY HAVE LOWER 1ST QTR ...</td>\n",
       "      <td>OHIO MATTRESS MAY HAVE LOWER 1ST QTR NET</td>\n",
       "      <td>Ohio Mattress Co said its first\\n  quarter, ...</td>\n",
       "      <td>Ohio Mattress Co said its first quarter, endin...</td>\n",
       "    </tr>\n",
       "    <tr>\n",
       "      <th>44</th>\n",
       "      <td>MCLEAN'S &amp;lt;MII&gt; U.S. LINES SETS ASSET TRANSF...</td>\n",
       "      <td>MCLEAN'S U.S. LINES SETS ASSET TRANSFER</td>\n",
       "      <td>McLean Industries Inc's United\\n  States Lin...</td>\n",
       "      <td>McLean Industries Inc's United States Lines In...</td>\n",
       "    </tr>\n",
       "    <tr>\n",
       "      <th>45</th>\n",
       "      <td>CHEMLAWN &amp;lt;CHEM&gt; RISES ON HOPES FOR HIGHER B...</td>\n",
       "      <td>CHEMLAWN RISES ON HOPES FOR HIGHER BIDS</td>\n",
       "      <td>ChemLawn Corp &amp;lt;CHEM&gt; could attract a\\n  h...</td>\n",
       "      <td>ChemLawn Corp could attract a higher bid than ...</td>\n",
       "    </tr>\n",
       "    <tr>\n",
       "      <th>68</th>\n",
       "      <td>&amp;lt;COFAB INC&gt; BUYS GULFEX FOR UNDISCLOSED AMO...</td>\n",
       "      <td>COFAB Inc BUYS GULFEX FOR UNDISCLOSED AMOUNT</td>\n",
       "      <td>CoFAB Inc said it acquired &amp;lt;Gulfex Inc&gt;,\\...</td>\n",
       "      <td>CoFAB Inc said it acquired Gulfex Inc, a Houst...</td>\n",
       "    </tr>\n",
       "    <tr>\n",
       "      <th>...</th>\n",
       "      <td>...</td>\n",
       "      <td>...</td>\n",
       "      <td>...</td>\n",
       "      <td>...</td>\n",
       "    </tr>\n",
       "    <tr>\n",
       "      <th>21503</th>\n",
       "      <td>TRAFALGAR HOUSE BUYS U.S. BUILDER FOR 20 MLN D...</td>\n",
       "      <td>TRAFALGAR HOUSE BUYS U.S. BUILDER FOR 20 milli...</td>\n",
       "      <td>Trafalgar House Plc &amp;lt;TRAF.L&gt; said it has\\...</td>\n",
       "      <td>Trafalgar House Plc said it has acquired the e...</td>\n",
       "    </tr>\n",
       "    <tr>\n",
       "      <th>21538</th>\n",
       "      <td>EQUITICORP HOLDING IN GUINNESS REACHES 59.93 P...</td>\n",
       "      <td>EQUITICORP HOLDING IN GUINNESS REACHES 59.93 %</td>\n",
       "      <td>Equiticorp Holdings Ltd &amp;lt;EQUW.WE&gt; now own...</td>\n",
       "      <td>Equiticorp Holdings Ltd now owns or has receiv...</td>\n",
       "    </tr>\n",
       "    <tr>\n",
       "      <th>21550</th>\n",
       "      <td>CABLE AND WIRELESS DETAILS MERGER OF H.K. UNIT...</td>\n",
       "      <td>CABLE AND WIRELESS DETAILS MERGER OF H.K. UNITS</td>\n",
       "      <td>Cable and Wireless Plc &amp;lt;CAWL.L&gt; said it\\n...</td>\n",
       "      <td>Cable and Wireless Plc said it will merge its ...</td>\n",
       "    </tr>\n",
       "    <tr>\n",
       "      <th>21555</th>\n",
       "      <td>CABLE AND WIRELESS TO MERGE TWO H.K. UNITS INT...</td>\n",
       "      <td>CABLE AND WIRELESS TO MERGE TWO H.K. UNITS INT...</td>\n",
       "      <td>\\n  CABLE AND WIRELESS TO MERGE TWO H.K. UNITS...</td>\n",
       "      <td>CABLE AND WIRELESS TO MERGE TWO H.K. UNITS INT...</td>\n",
       "    </tr>\n",
       "    <tr>\n",
       "      <th>21571</th>\n",
       "      <td>N.Z.'S CHASE CORP MAKES OFFER FOR ENTREGROWTH\\...</td>\n",
       "      <td>N.Z.'S CHASE Corp MAKES OFFER FOR ENTREGROWTH</td>\n",
       "      <td>Chase Corp Ltd &amp;lt;CHCA.WE&gt; said it will\\n  ...</td>\n",
       "      <td>Chase Corp Ltd said it will make an offer for ...</td>\n",
       "    </tr>\n",
       "  </tbody>\n",
       "</table>\n",
       "<p>2369 rows × 4 columns</p>\n",
       "</div>"
      ],
      "text/plain": [
       "                                                     raw  \\\n",
       "10     COMPUTER TERMINAL SYSTEMS &lt;CPML> COMPLETES ...   \n",
       "12     OHIO MATTRESS &lt;OMT> MAY HAVE LOWER 1ST QTR ...   \n",
       "44     MCLEAN'S &lt;MII> U.S. LINES SETS ASSET TRANSF...   \n",
       "45     CHEMLAWN &lt;CHEM> RISES ON HOPES FOR HIGHER B...   \n",
       "68     &lt;COFAB INC> BUYS GULFEX FOR UNDISCLOSED AMO...   \n",
       "...                                                  ...   \n",
       "21503  TRAFALGAR HOUSE BUYS U.S. BUILDER FOR 20 MLN D...   \n",
       "21538  EQUITICORP HOLDING IN GUINNESS REACHES 59.93 P...   \n",
       "21550  CABLE AND WIRELESS DETAILS MERGER OF H.K. UNIT...   \n",
       "21555  CABLE AND WIRELESS TO MERGE TWO H.K. UNITS INT...   \n",
       "21571  N.Z.'S CHASE CORP MAKES OFFER FOR ENTREGROWTH\\...   \n",
       "\n",
       "                                                headline  \\\n",
       "10              COMPUTER TERMINAL SYSTEMS COMPLETES SALE   \n",
       "12              OHIO MATTRESS MAY HAVE LOWER 1ST QTR NET   \n",
       "44               MCLEAN'S U.S. LINES SETS ASSET TRANSFER   \n",
       "45               CHEMLAWN RISES ON HOPES FOR HIGHER BIDS   \n",
       "68          COFAB Inc BUYS GULFEX FOR UNDISCLOSED AMOUNT   \n",
       "...                                                  ...   \n",
       "21503  TRAFALGAR HOUSE BUYS U.S. BUILDER FOR 20 milli...   \n",
       "21538     EQUITICORP HOLDING IN GUINNESS REACHES 59.93 %   \n",
       "21550    CABLE AND WIRELESS DETAILS MERGER OF H.K. UNITS   \n",
       "21555  CABLE AND WIRELESS TO MERGE TWO H.K. UNITS INT...   \n",
       "21571      N.Z.'S CHASE Corp MAKES OFFER FOR ENTREGROWTH   \n",
       "\n",
       "                                                raw_text  \\\n",
       "10       Computer Terminal Systems Inc said\\n  it has...   \n",
       "12       Ohio Mattress Co said its first\\n  quarter, ...   \n",
       "44       McLean Industries Inc's United\\n  States Lin...   \n",
       "45       ChemLawn Corp &lt;CHEM> could attract a\\n  h...   \n",
       "68       CoFAB Inc said it acquired &lt;Gulfex Inc>,\\...   \n",
       "...                                                  ...   \n",
       "21503    Trafalgar House Plc &lt;TRAF.L> said it has\\...   \n",
       "21538    Equiticorp Holdings Ltd &lt;EQUW.WE> now own...   \n",
       "21550    Cable and Wireless Plc &lt;CAWL.L> said it\\n...   \n",
       "21555  \\n  CABLE AND WIRELESS TO MERGE TWO H.K. UNITS...   \n",
       "21571    Chase Corp Ltd &lt;CHCA.WE> said it will\\n  ...   \n",
       "\n",
       "                                                    text  \n",
       "10     Computer Terminal Systems Inc said it has comp...  \n",
       "12     Ohio Mattress Co said its first quarter, endin...  \n",
       "44     McLean Industries Inc's United States Lines In...  \n",
       "45     ChemLawn Corp could attract a higher bid than ...  \n",
       "68     CoFAB Inc said it acquired Gulfex Inc, a Houst...  \n",
       "...                                                  ...  \n",
       "21503  Trafalgar House Plc said it has acquired the e...  \n",
       "21538  Equiticorp Holdings Ltd now owns or has receiv...  \n",
       "21550  Cable and Wireless Plc said it will merge its ...  \n",
       "21555  CABLE AND WIRELESS TO MERGE TWO H.K. UNITS INT...  \n",
       "21571  Chase Corp Ltd said it will make an offer for ...  \n",
       "\n",
       "[2369 rows x 4 columns]"
      ]
     },
     "execution_count": 9,
     "metadata": {},
     "output_type": "execute_result"
    }
   ],
   "source": [
    "df"
   ]
  },
  {
   "cell_type": "markdown",
   "metadata": {},
   "source": [
    "There are numerous articles like the one below, that have ALL CAPITAL letters, we need to drop them since they will impact out NER solution"
   ]
  },
  {
   "cell_type": "code",
   "execution_count": 10,
   "metadata": {},
   "outputs": [
    {
     "data": {
      "text/html": [
       "<div>\n",
       "<style scoped>\n",
       "    .dataframe tbody tr th:only-of-type {\n",
       "        vertical-align: middle;\n",
       "    }\n",
       "\n",
       "    .dataframe tbody tr th {\n",
       "        vertical-align: top;\n",
       "    }\n",
       "\n",
       "    .dataframe thead th {\n",
       "        text-align: right;\n",
       "    }\n",
       "</style>\n",
       "<table border=\"1\" class=\"dataframe\">\n",
       "  <thead>\n",
       "    <tr style=\"text-align: right;\">\n",
       "      <th></th>\n",
       "      <th>headline</th>\n",
       "      <th>raw_text</th>\n",
       "    </tr>\n",
       "  </thead>\n",
       "  <tbody>\n",
       "    <tr>\n",
       "      <th>298</th>\n",
       "      <td>SHV SAYS IT MAKING TENDER OFFER FOR UP TO 33 m...</td>\n",
       "      <td>\\n  SHV SAYS IT MAKING TENDER OFFER FOR UP TO ...</td>\n",
       "    </tr>\n",
       "    <tr>\n",
       "      <th>383</th>\n",
       "      <td>VIACOM SAID IT HAS NEW NATIONAL AMUSEMENTS, MC...</td>\n",
       "      <td>\\n  VIACOM SAID IT HAS NEW NATIONAL AMUSEMENTS...</td>\n",
       "    </tr>\n",
       "    <tr>\n",
       "      <th>398</th>\n",
       "      <td>PITTSTON AGREES TO ACQUIRE WTC INTERNATIONAL I...</td>\n",
       "      <td>\\n  PITTSTON AGREES TO ACQUIRE WTC INTERNATION...</td>\n",
       "    </tr>\n",
       "  </tbody>\n",
       "</table>\n",
       "</div>"
      ],
      "text/plain": [
       "                                              headline  \\\n",
       "298  SHV SAYS IT MAKING TENDER OFFER FOR UP TO 33 m...   \n",
       "383  VIACOM SAID IT HAS NEW NATIONAL AMUSEMENTS, MC...   \n",
       "398  PITTSTON AGREES TO ACQUIRE WTC INTERNATIONAL I...   \n",
       "\n",
       "                                              raw_text  \n",
       "298  \\n  SHV SAYS IT MAKING TENDER OFFER FOR UP TO ...  \n",
       "383  \\n  VIACOM SAID IT HAS NEW NATIONAL AMUSEMENTS...  \n",
       "398  \\n  PITTSTON AGREES TO ACQUIRE WTC INTERNATION...  "
      ]
     },
     "execution_count": 10,
     "metadata": {},
     "output_type": "execute_result"
    }
   ],
   "source": [
    "# we will drop these articles with only capital letters\n",
    "df[df['raw_text'].map(lambda t: t.isupper())][['headline', 'raw_text']].head(3)"
   ]
  },
  {
   "cell_type": "code",
   "execution_count": 11,
   "metadata": {},
   "outputs": [],
   "source": [
    "# drop articles with only capital letters\n",
    "df = df[df['raw_text'].map(lambda t: not t.isupper())]"
   ]
  },
  {
   "cell_type": "markdown",
   "metadata": {},
   "source": [
    "### Named-Entity Recognition"
   ]
  },
  {
   "cell_type": "code",
   "execution_count": 30,
   "metadata": {},
   "outputs": [
    {
     "name": "stdout",
     "output_type": "stream",
     "text": [
      "('tagger', <spacy.pipeline.pipes.Tagger object at 0x0000020A097229D0>)\n",
      "('parser', <spacy.pipeline.pipes.DependencyParser object at 0x0000020A095E28E0>)\n",
      "('ner', <spacy.pipeline.pipes.EntityRecognizer object at 0x0000020A095E2C40>)\n"
     ]
    }
   ],
   "source": [
    "import spacy \n",
    "\n",
    "nlp = spacy.load('en_core_web_sm') \n",
    "print(*nlp.pipeline, sep='\\n')"
   ]
  },
  {
   "cell_type": "code",
   "execution_count": 31,
   "metadata": {},
   "outputs": [
    {
     "name": "stdout",
     "output_type": "stream",
     "text": [
      "('Hughes Tool Co', 'ORG') ('W.A. Kistler', 'PERSON') ('Baker International Corp', 'ORG') ('Kistler', 'ORG') ('Baker', 'PERSON') ('Texas', 'GPE') ('Hughes', 'ORG')\n"
     ]
    }
   ],
   "source": [
    "text = \"\"\"Hughes Tool Co Chairman W.A. Kistler said its merger with \n",
    "Baker International Corp was still under consideration.\n",
    "We hope to come soon to a mutual agreement, Kistler said.\n",
    "The directors of Baker filed a law suit in Texas to force Hughes \n",
    "to complete the merger.\"\"\"\n",
    "\n",
    "text = re.sub(r'\\s+', ' ', text).strip() ###\n",
    "doc = nlp(text)\n",
    "\n",
    "print(*[(e.text, e.label_) for e in doc.ents], sep=' ')"
   ]
  },
  {
   "cell_type": "code",
   "execution_count": 32,
   "metadata": {},
   "outputs": [
    {
     "data": {
      "text/html": [
       "<span class=\"tex2jax_ignore\"><div class=\"entities\" style=\"line-height: 2.5; direction: ltr\">\n",
       "<mark class=\"entity\" style=\"background: #7aecec; padding: 0.45em 0.6em; margin: 0 0.25em; line-height: 1; border-radius: 0.35em;\">\n",
       "    Hughes Tool Co\n",
       "    <span style=\"font-size: 0.8em; font-weight: bold; line-height: 1; border-radius: 0.35em; text-transform: uppercase; vertical-align: middle; margin-left: 0.5rem\">ORG</span>\n",
       "</mark>\n",
       " Chairman \n",
       "<mark class=\"entity\" style=\"background: #aa9cfc; padding: 0.45em 0.6em; margin: 0 0.25em; line-height: 1; border-radius: 0.35em;\">\n",
       "    W.A. Kistler\n",
       "    <span style=\"font-size: 0.8em; font-weight: bold; line-height: 1; border-radius: 0.35em; text-transform: uppercase; vertical-align: middle; margin-left: 0.5rem\">PERSON</span>\n",
       "</mark>\n",
       " said its merger with \n",
       "<mark class=\"entity\" style=\"background: #7aecec; padding: 0.45em 0.6em; margin: 0 0.25em; line-height: 1; border-radius: 0.35em;\">\n",
       "    Baker International Corp\n",
       "    <span style=\"font-size: 0.8em; font-weight: bold; line-height: 1; border-radius: 0.35em; text-transform: uppercase; vertical-align: middle; margin-left: 0.5rem\">ORG</span>\n",
       "</mark>\n",
       " was still under consideration. We hope to come soon to a mutual agreement, \n",
       "<mark class=\"entity\" style=\"background: #7aecec; padding: 0.45em 0.6em; margin: 0 0.25em; line-height: 1; border-radius: 0.35em;\">\n",
       "    Kistler\n",
       "    <span style=\"font-size: 0.8em; font-weight: bold; line-height: 1; border-radius: 0.35em; text-transform: uppercase; vertical-align: middle; margin-left: 0.5rem\">ORG</span>\n",
       "</mark>\n",
       " said. The directors of \n",
       "<mark class=\"entity\" style=\"background: #aa9cfc; padding: 0.45em 0.6em; margin: 0 0.25em; line-height: 1; border-radius: 0.35em;\">\n",
       "    Baker\n",
       "    <span style=\"font-size: 0.8em; font-weight: bold; line-height: 1; border-radius: 0.35em; text-transform: uppercase; vertical-align: middle; margin-left: 0.5rem\">PERSON</span>\n",
       "</mark>\n",
       " filed a law suit in \n",
       "<mark class=\"entity\" style=\"background: #feca74; padding: 0.45em 0.6em; margin: 0 0.25em; line-height: 1; border-radius: 0.35em;\">\n",
       "    Texas\n",
       "    <span style=\"font-size: 0.8em; font-weight: bold; line-height: 1; border-radius: 0.35em; text-transform: uppercase; vertical-align: middle; margin-left: 0.5rem\">GPE</span>\n",
       "</mark>\n",
       " to force \n",
       "<mark class=\"entity\" style=\"background: #7aecec; padding: 0.45em 0.6em; margin: 0 0.25em; line-height: 1; border-radius: 0.35em;\">\n",
       "    Hughes\n",
       "    <span style=\"font-size: 0.8em; font-weight: bold; line-height: 1; border-radius: 0.35em; text-transform: uppercase; vertical-align: middle; margin-left: 0.5rem\">ORG</span>\n",
       "</mark>\n",
       " to complete the merger.</div></span>"
      ],
      "text/plain": [
       "<IPython.core.display.HTML object>"
      ]
     },
     "metadata": {},
     "output_type": "display_data"
    }
   ],
   "source": [
    "from spacy import displacy\n",
    "displacy.render(doc, style='ent')"
   ]
  },
  {
   "cell_type": "markdown",
   "metadata": {},
   "source": [
    "### Rule-based Named-Entity Recognition"
   ]
  },
  {
   "cell_type": "code",
   "execution_count": 49,
   "metadata": {},
   "outputs": [
    {
     "name": "stdout",
     "output_type": "stream",
     "text": [
      "Model: core_web_sm, Language: en\n",
      "('tagger', <spacy.pipeline.pipes.Tagger object at 0x0000020A097229D0>)\n",
      "('parser', <spacy.pipeline.pipes.DependencyParser object at 0x0000020A095E28E0>)\n",
      "('ner', <spacy.pipeline.pipes.EntityRecognizer object at 0x0000020A095E2C40>)\n"
     ]
    }
   ],
   "source": [
    "reset_pipeline(nlp, pipes=[])"
   ]
  },
  {
   "cell_type": "code",
   "execution_count": 48,
   "metadata": {},
   "outputs": [],
   "source": [
    "from spacy.pipeline import EntityRuler\n",
    "\n",
    "departments = ['Justice', 'Transportation']\n",
    "patterns = [{\"label\": \"GOV\", \n",
    "             \"pattern\": [{\"TEXT\": \"U.S.\", \"OP\": \"?\"},\n",
    "                         {\"TEXT\": \"Department\"}, {\"TEXT\": \"of\"}, \n",
    "                         {\"TEXT\": {\"IN\": departments}, \"ENT_TYPE\": \"ORG\"}]},\n",
    "             {\"label\": \"GOV\", \n",
    "              \"pattern\": [{\"TEXT\": \"U.S.\", \"OP\": \"?\"},\n",
    "                          {\"TEXT\": {\"IN\": departments}, \"ENT_TYPE\": \"ORG\"},\n",
    "                          {\"TEXT\": \"Department\"}]},\n",
    "             {\"label\": \"GOV\",\n",
    "              \"pattern\": [{\"TEXT\": \"Securities\"}, {\"TEXT\": \"and\"},\n",
    "                          {\"TEXT\": \"Exchange\"}, {\"TEXT\": \"Commission\"}]}]"
   ]
  },
  {
   "cell_type": "code",
   "execution_count": 50,
   "metadata": {},
   "outputs": [],
   "source": [
    "# not in book, but useful if you modify the rules\n",
    "if nlp.has_pipe('entity_ruler'):\n",
    "    nlp.remove_pipe('entity_ruler')"
   ]
  },
  {
   "cell_type": "code",
   "execution_count": 55,
   "metadata": {},
   "outputs": [],
   "source": [
    "from spacy.pipeline import EntityRuler\n",
    "entity_ruler = EntityRuler(nlp, patterns=patterns, overwrite_ents=True)\n",
    "# nlp.add_pipe('entity_ruler')\n",
    "nlp.add_pipe(entity_ruler, name='entity_ruler', before='ner')"
   ]
  },
  {
   "cell_type": "markdown",
   "metadata": {},
   "source": [
    "Now let's test it out"
   ]
  },
  {
   "cell_type": "code",
   "execution_count": 57,
   "metadata": {},
   "outputs": [
    {
     "data": {
      "text/html": [
       "<span class=\"tex2jax_ignore\"><div class=\"entities\" style=\"line-height: 2.5; direction: ltr\">\n",
       "<mark class=\"entity\" style=\"background: #7aecec; padding: 0.45em 0.6em; margin: 0 0.25em; line-height: 1; border-radius: 0.35em;\">\n",
       "    Justice Department\n",
       "    <span style=\"font-size: 0.8em; font-weight: bold; line-height: 1; border-radius: 0.35em; text-transform: uppercase; vertical-align: middle; margin-left: 0.5rem\">ORG</span>\n",
       "</mark>\n",
       " is an alias for \n",
       "<mark class=\"entity\" style=\"background: #7aecec; padding: 0.45em 0.6em; margin: 0 0.25em; line-height: 1; border-radius: 0.35em;\">\n",
       "    the U.S. Department of Justice\n",
       "    <span style=\"font-size: 0.8em; font-weight: bold; line-height: 1; border-radius: 0.35em; text-transform: uppercase; vertical-align: middle; margin-left: 0.5rem\">ORG</span>\n",
       "</mark>\n",
       ".</br>\n",
       "<mark class=\"entity\" style=\"background: #7aecec; padding: 0.45em 0.6em; margin: 0 0.25em; line-height: 1; border-radius: 0.35em;\">\n",
       "    Department of Transportation\n",
       "    <span style=\"font-size: 0.8em; font-weight: bold; line-height: 1; border-radius: 0.35em; text-transform: uppercase; vertical-align: middle; margin-left: 0.5rem\">ORG</span>\n",
       "</mark>\n",
       " and the \n",
       "<mark class=\"entity\" style=\"background: #ddd; padding: 0.45em 0.6em; margin: 0 0.25em; line-height: 1; border-radius: 0.35em;\">\n",
       "    Securities and Exchange Commission\n",
       "    <span style=\"font-size: 0.8em; font-weight: bold; line-height: 1; border-radius: 0.35em; text-transform: uppercase; vertical-align: middle; margin-left: 0.5rem\">GOV</span>\n",
       "</mark>\n",
       "</br>are government organisations, but \n",
       "<mark class=\"entity\" style=\"background: #7aecec; padding: 0.45em 0.6em; margin: 0 0.25em; line-height: 1; border-radius: 0.35em;\">\n",
       "    the Sales Department\n",
       "    <span style=\"font-size: 0.8em; font-weight: bold; line-height: 1; border-radius: 0.35em; text-transform: uppercase; vertical-align: middle; margin-left: 0.5rem\">ORG</span>\n",
       "</mark>\n",
       " is not.</div></span>"
      ],
      "text/plain": [
       "<IPython.core.display.HTML object>"
      ]
     },
     "metadata": {},
     "output_type": "display_data"
    }
   ],
   "source": [
    "text = \"\"\"Justice Department is an alias for the U.S. Department of Justice.\n",
    "Department of Transportation and the Securities and Exchange Commission\n",
    "are government organisations, but the Sales Department is not.\"\"\"\n",
    "#text = re.sub(r'\\s+', ' ', text).strip() ###\n",
    "\n",
    "doc = nlp(text)\n",
    "# print(*[([t.text for t in e], e.label_) for e in doc.ents], sep='\\n') ###\n",
    "displacy.render(doc, style='ent', jupyter=True)"
   ]
  },
  {
   "cell_type": "markdown",
   "metadata": {},
   "source": [
    "### Coreference Resolution"
   ]
  },
  {
   "cell_type": "markdown",
   "metadata": {},
   "source": [
    "#### Using spaCy's Token Extensions"
   ]
  },
  {
   "cell_type": "code",
   "execution_count": 15,
   "metadata": {},
   "outputs": [],
   "source": [
    "# not in book, but usefule if you modify the extension\n",
    "from spacy.tokens import Token\n",
    "\n",
    "if Token.has_extension('ref_n'):\n",
    "    _ = Token.remove_extension('ref_n') \n",
    "if Token.has_extension('ref_t'):\n",
    "    _ = Token.remove_extension('ref_t') \n",
    "if Token.has_extension('ref_t_'):\n",
    "    _ = Token.remove_extension('ref_t_')"
   ]
  },
  {
   "cell_type": "code",
   "execution_count": 16,
   "metadata": {},
   "outputs": [],
   "source": [
    "from spacy.tokens import Token\n",
    "Token.set_extension('ref_n', default='')\n",
    "Token.set_extension('ref_t', default='')"
   ]
  },
  {
   "cell_type": "code",
   "execution_count": 17,
   "metadata": {},
   "outputs": [],
   "source": [
    "def init_coref(doc):\n",
    "    for e in doc.ents:\n",
    "        if e.label_ in ['ORG', 'GOV', 'PERSON']:\n",
    "            e[0]._.ref_n, e[0]._.ref_t = e.text, e.label_\n",
    "    return doc"
   ]
  },
  {
   "cell_type": "markdown",
   "metadata": {},
   "source": [
    "#### Alias Resolution"
   ]
  },
  {
   "cell_type": "code",
   "execution_count": 33,
   "metadata": {},
   "outputs": [
    {
     "name": "stdout",
     "output_type": "stream",
     "text": [
      "Transportation Department : ('U.S. Department of Transportation', 'GOV')\n",
      "DOT : ('U.S. Department of Transportation', 'GOV')\n",
      "SEC : ('Securities and Exchange Commission', 'GOV')\n",
      "TWA : ('Trans World Airlines Inc', 'ORG')\n"
     ]
    }
   ],
   "source": [
    "\n",
    "for token in ['Transportation Department', 'DOT', 'SEC', 'TWA']:\n",
    "    print(token, ':', alias_lookup[token])"
   ]
  },
  {
   "cell_type": "code",
   "execution_count": 22,
   "metadata": {},
   "outputs": [],
   "source": [
    "# reset_pipeline(nlp, [entity_ruler, norm_entities, merge_entities, init_coref])"
   ]
  },
  {
   "cell_type": "code",
   "execution_count": 34,
   "metadata": {},
   "outputs": [
    {
     "data": {
      "text/html": [
       "<span class=\"tex2jax_ignore\"><div class=\"entities\" style=\"line-height: 2.5; direction: ltr\">\n",
       "<mark class=\"entity\" style=\"background: #7aecec; padding: 0.45em 0.6em; margin: 0 0.25em; line-height: 1; border-radius: 0.35em;\">\n",
       "    Hughes Tool Co\n",
       "    <span style=\"font-size: 0.8em; font-weight: bold; line-height: 1; border-radius: 0.35em; text-transform: uppercase; vertical-align: middle; margin-left: 0.5rem\">ORG</span>\n",
       "</mark>\n",
       " Chairman \n",
       "<mark class=\"entity\" style=\"background: #aa9cfc; padding: 0.45em 0.6em; margin: 0 0.25em; line-height: 1; border-radius: 0.35em;\">\n",
       "    W.A. Kistler\n",
       "    <span style=\"font-size: 0.8em; font-weight: bold; line-height: 1; border-radius: 0.35em; text-transform: uppercase; vertical-align: middle; margin-left: 0.5rem\">PERSON</span>\n",
       "</mark>\n",
       " said its merger with \n",
       "<mark class=\"entity\" style=\"background: #7aecec; padding: 0.45em 0.6em; margin: 0 0.25em; line-height: 1; border-radius: 0.35em;\">\n",
       "    Baker International Corp.\n",
       "    <span style=\"font-size: 0.8em; font-weight: bold; line-height: 1; border-radius: 0.35em; text-transform: uppercase; vertical-align: middle; margin-left: 0.5rem\">ORG</span>\n",
       "</mark>\n",
       " was still under consideration. We hope to come to a mutual agreement, \n",
       "<mark class=\"entity\" style=\"background: #7aecec; padding: 0.45em 0.6em; margin: 0 0.25em; line-height: 1; border-radius: 0.35em;\">\n",
       "    Kistler\n",
       "    <span style=\"font-size: 0.8em; font-weight: bold; line-height: 1; border-radius: 0.35em; text-transform: uppercase; vertical-align: middle; margin-left: 0.5rem\">ORG</span>\n",
       "</mark>\n",
       " said. \n",
       "<mark class=\"entity\" style=\"background: #aa9cfc; padding: 0.45em 0.6em; margin: 0 0.25em; line-height: 1; border-radius: 0.35em;\">\n",
       "    Baker\n",
       "    <span style=\"font-size: 0.8em; font-weight: bold; line-height: 1; border-radius: 0.35em; text-transform: uppercase; vertical-align: middle; margin-left: 0.5rem\">PERSON</span>\n",
       "</mark>\n",
       " will force \n",
       "<mark class=\"entity\" style=\"background: #7aecec; padding: 0.45em 0.6em; margin: 0 0.25em; line-height: 1; border-radius: 0.35em;\">\n",
       "    Hughes\n",
       "    <span style=\"font-size: 0.8em; font-weight: bold; line-height: 1; border-radius: 0.35em; text-transform: uppercase; vertical-align: middle; margin-left: 0.5rem\">ORG</span>\n",
       "</mark>\n",
       " to complete the merger.</div></span>"
      ],
      "text/plain": [
       "<IPython.core.display.HTML object>"
      ]
     },
     "metadata": {},
     "output_type": "display_data"
    }
   ],
   "source": [
    "text = \"\"\"\n",
    "Hughes Tool Co Chairman W.A. Kistler said its merger with \n",
    "Baker International Corp. was still under consideration.\n",
    "We hope to come to a mutual agreement, Kistler said.\n",
    "Baker will force Hughes to complete the merger.\n",
    "\"\"\"\n",
    "text = re.sub(r'\\s+', ' ', text).strip() ### \n",
    "\n",
    "doc = nlp(text) \n",
    "displacy.render(doc, style='ent', jupyter=True)"
   ]
  },
  {
   "cell_type": "code",
   "execution_count": 42,
   "metadata": {},
   "outputs": [],
   "source": [
    "def propagate_ent_type(doc):\n",
    "    \"\"\"propagate entity type stored in ref_t\"\"\"\n",
    "    ents = []\n",
    "    for e in doc.ents:\n",
    "        if e[0]._.ref_n != '': # if e is a coreference\n",
    "            e = Span(doc, e.start, e.end, label=e[0]._.ref_t)\n",
    "        ents.append(e)\n",
    "    doc.ents = tuple(ents)\n",
    "    return doc"
   ]
  },
  {
   "cell_type": "code",
   "execution_count": 43,
   "metadata": {},
   "outputs": [],
   "source": [
    "def name_match(m1, m2):\n",
    "    m2 = re.sub(r'[()\\.]', '', m2) # ignore parentheses and dots\n",
    "    m2 = r'\\b' + m2 + r'\\b' # \\b marks word boundary\n",
    "    m2 = re.sub(r'\\s+', r'\\\\b.*\\\\b', m2)\n",
    "    return re.search(m2, m1, flags=re.I) is not None"
   ]
  },
  {
   "cell_type": "code",
   "execution_count": 44,
   "metadata": {},
   "outputs": [],
   "source": [
    "def name_resolver(doc):\n",
    "    \"\"\"create name-based reference to e1 as primary mention of e2\"\"\"\n",
    "    ents = [e for e in doc.ents if e.label_ in ['ORG', 'PERSON']]\n",
    "    for i, e1 in enumerate(ents):\n",
    "        for e2 in ents[i+1:]:\n",
    "            if name_match(e1[0]._.ref_n, e2[0].text): \n",
    "                e2[0]._.ref_n = e1[0]._.ref_n\n",
    "                e2[0]._.ref_t = e1[0]._.ref_t\n",
    "    return propagate_ent_type(doc)"
   ]
  },
  {
   "cell_type": "code",
   "execution_count": 45,
   "metadata": {},
   "outputs": [
    {
     "ename": "ValueError",
     "evalue": "[E007] 'name_resolver' already exists in pipeline. Existing names: ['tagger', 'parser', 'ner', 'name_resolver']",
     "output_type": "error",
     "traceback": [
      "\u001b[1;31m---------------------------------------------------------------------------\u001b[0m",
      "\u001b[1;31mValueError\u001b[0m                                Traceback (most recent call last)",
      "Cell \u001b[1;32mIn[45], line 1\u001b[0m\n\u001b[1;32m----> 1\u001b[0m \u001b[43mnlp\u001b[49m\u001b[38;5;241;43m.\u001b[39;49m\u001b[43madd_pipe\u001b[49m\u001b[43m(\u001b[49m\u001b[43mname_resolver\u001b[49m\u001b[43m)\u001b[49m\n\u001b[0;32m      3\u001b[0m doc \u001b[38;5;241m=\u001b[39m nlp(text)\n\u001b[0;32m      4\u001b[0m displacy\u001b[38;5;241m.\u001b[39mrender(doc, style\u001b[38;5;241m=\u001b[39m\u001b[38;5;124m'\u001b[39m\u001b[38;5;124ment\u001b[39m\u001b[38;5;124m'\u001b[39m, jupyter\u001b[38;5;241m=\u001b[39m\u001b[38;5;28;01mTrue\u001b[39;00m)\n",
      "File \u001b[1;32mc:\\Users\\Azus\\anaconda3\\envs\\env\\lib\\site-packages\\spacy\\language.py:341\u001b[0m, in \u001b[0;36mLanguage.add_pipe\u001b[1;34m(self, component, name, before, after, first, last)\u001b[0m\n\u001b[0;32m    339\u001b[0m     name \u001b[38;5;241m=\u001b[39m util\u001b[38;5;241m.\u001b[39mget_component_name(component)\n\u001b[0;32m    340\u001b[0m \u001b[38;5;28;01mif\u001b[39;00m name \u001b[38;5;129;01min\u001b[39;00m \u001b[38;5;28mself\u001b[39m\u001b[38;5;241m.\u001b[39mpipe_names:\n\u001b[1;32m--> 341\u001b[0m     \u001b[38;5;28;01mraise\u001b[39;00m \u001b[38;5;167;01mValueError\u001b[39;00m(Errors\u001b[38;5;241m.\u001b[39mE007\u001b[38;5;241m.\u001b[39mformat(name\u001b[38;5;241m=\u001b[39mname, opts\u001b[38;5;241m=\u001b[39m\u001b[38;5;28mself\u001b[39m\u001b[38;5;241m.\u001b[39mpipe_names))\n\u001b[0;32m    342\u001b[0m \u001b[38;5;28;01mif\u001b[39;00m \u001b[38;5;28msum\u001b[39m([\u001b[38;5;28mbool\u001b[39m(before), \u001b[38;5;28mbool\u001b[39m(after), \u001b[38;5;28mbool\u001b[39m(first), \u001b[38;5;28mbool\u001b[39m(last)]) \u001b[38;5;241m>\u001b[39m\u001b[38;5;241m=\u001b[39m \u001b[38;5;241m2\u001b[39m:\n\u001b[0;32m    343\u001b[0m     \u001b[38;5;28;01mraise\u001b[39;00m \u001b[38;5;167;01mValueError\u001b[39;00m(Errors\u001b[38;5;241m.\u001b[39mE006)\n",
      "\u001b[1;31mValueError\u001b[0m: [E007] 'name_resolver' already exists in pipeline. Existing names: ['tagger', 'parser', 'ner', 'name_resolver']"
     ]
    }
   ],
   "source": [
    "nlp.add_pipe(name_resolver)\n",
    "\n",
    "doc = nlp(text)\n",
    "displacy.render(doc, style='ent', jupyter=True)"
   ]
  },
  {
   "cell_type": "code",
   "execution_count": 46,
   "metadata": {},
   "outputs": [
    {
     "data": {
      "text/html": [
       "<div>\n",
       "<style scoped>\n",
       "    .dataframe tbody tr th:only-of-type {\n",
       "        vertical-align: middle;\n",
       "    }\n",
       "\n",
       "    .dataframe tbody tr th {\n",
       "        vertical-align: top;\n",
       "    }\n",
       "\n",
       "    .dataframe thead th {\n",
       "        text-align: right;\n",
       "    }\n",
       "</style>\n",
       "<table border=\"1\" class=\"dataframe\">\n",
       "  <thead>\n",
       "    <tr style=\"text-align: right;\">\n",
       "      <th></th>\n",
       "      <th>text</th>\n",
       "      <th>ent_type</th>\n",
       "      <th>ref_n</th>\n",
       "      <th>ref_t</th>\n",
       "    </tr>\n",
       "  </thead>\n",
       "  <tbody>\n",
       "  </tbody>\n",
       "</table>\n",
       "</div>"
      ],
      "text/plain": [
       "Empty DataFrame\n",
       "Columns: [text, ent_type, ref_n, ref_t]\n",
       "Index: []"
      ]
     },
     "execution_count": 46,
     "metadata": {},
     "output_type": "execute_result"
    }
   ],
   "source": [
    "display_ner(doc).query(\"ref_n != ''\")[['text', 'ent_type', 'ref_n', 'ref_t']]"
   ]
  }
 ],
 "metadata": {
  "kernelspec": {
   "display_name": "env",
   "language": "python",
   "name": "python3"
  },
  "language_info": {
   "codemirror_mode": {
    "name": "ipython",
    "version": 3
   },
   "file_extension": ".py",
   "mimetype": "text/x-python",
   "name": "python",
   "nbconvert_exporter": "python",
   "pygments_lexer": "ipython3",
   "version": "3.8.20"
  }
 },
 "nbformat": 4,
 "nbformat_minor": 2
}
